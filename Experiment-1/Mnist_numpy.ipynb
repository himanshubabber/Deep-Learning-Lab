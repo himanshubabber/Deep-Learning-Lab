{
  "nbformat": 4,
  "nbformat_minor": 0,
  "metadata": {
    "colab": {
      "provenance": []
    },
    "kernelspec": {
      "name": "python3",
      "display_name": "Python 3"
    },
    "language_info": {
      "name": "python"
    }
  },
  "cells": [
    {
      "cell_type": "code",
      "source": [
        "from google.colab import files\n",
        "\n",
        "# Upload a file (e.g., example.zip)\n",
        "uploaded = files.upload()\n"
      ],
      "metadata": {
        "colab": {
          "base_uri": "https://localhost:8080/",
          "height": 73
        },
        "id": "Ib2tK5TF9JQc",
        "outputId": "490e6297-1d4c-4bdc-9753-f9c0a5739d16"
      },
      "execution_count": null,
      "outputs": [
        {
          "output_type": "display_data",
          "data": {
            "text/plain": [
              "<IPython.core.display.HTML object>"
            ],
            "text/html": [
              "\n",
              "     <input type=\"file\" id=\"files-b4a0b0d2-440d-402f-9017-96a37d760c79\" name=\"files[]\" multiple disabled\n",
              "        style=\"border:none\" />\n",
              "     <output id=\"result-b4a0b0d2-440d-402f-9017-96a37d760c79\">\n",
              "      Upload widget is only available when the cell has been executed in the\n",
              "      current browser session. Please rerun this cell to enable.\n",
              "      </output>\n",
              "      <script>// Copyright 2017 Google LLC\n",
              "//\n",
              "// Licensed under the Apache License, Version 2.0 (the \"License\");\n",
              "// you may not use this file except in compliance with the License.\n",
              "// You may obtain a copy of the License at\n",
              "//\n",
              "//      http://www.apache.org/licenses/LICENSE-2.0\n",
              "//\n",
              "// Unless required by applicable law or agreed to in writing, software\n",
              "// distributed under the License is distributed on an \"AS IS\" BASIS,\n",
              "// WITHOUT WARRANTIES OR CONDITIONS OF ANY KIND, either express or implied.\n",
              "// See the License for the specific language governing permissions and\n",
              "// limitations under the License.\n",
              "\n",
              "/**\n",
              " * @fileoverview Helpers for google.colab Python module.\n",
              " */\n",
              "(function(scope) {\n",
              "function span(text, styleAttributes = {}) {\n",
              "  const element = document.createElement('span');\n",
              "  element.textContent = text;\n",
              "  for (const key of Object.keys(styleAttributes)) {\n",
              "    element.style[key] = styleAttributes[key];\n",
              "  }\n",
              "  return element;\n",
              "}\n",
              "\n",
              "// Max number of bytes which will be uploaded at a time.\n",
              "const MAX_PAYLOAD_SIZE = 100 * 1024;\n",
              "\n",
              "function _uploadFiles(inputId, outputId) {\n",
              "  const steps = uploadFilesStep(inputId, outputId);\n",
              "  const outputElement = document.getElementById(outputId);\n",
              "  // Cache steps on the outputElement to make it available for the next call\n",
              "  // to uploadFilesContinue from Python.\n",
              "  outputElement.steps = steps;\n",
              "\n",
              "  return _uploadFilesContinue(outputId);\n",
              "}\n",
              "\n",
              "// This is roughly an async generator (not supported in the browser yet),\n",
              "// where there are multiple asynchronous steps and the Python side is going\n",
              "// to poll for completion of each step.\n",
              "// This uses a Promise to block the python side on completion of each step,\n",
              "// then passes the result of the previous step as the input to the next step.\n",
              "function _uploadFilesContinue(outputId) {\n",
              "  const outputElement = document.getElementById(outputId);\n",
              "  const steps = outputElement.steps;\n",
              "\n",
              "  const next = steps.next(outputElement.lastPromiseValue);\n",
              "  return Promise.resolve(next.value.promise).then((value) => {\n",
              "    // Cache the last promise value to make it available to the next\n",
              "    // step of the generator.\n",
              "    outputElement.lastPromiseValue = value;\n",
              "    return next.value.response;\n",
              "  });\n",
              "}\n",
              "\n",
              "/**\n",
              " * Generator function which is called between each async step of the upload\n",
              " * process.\n",
              " * @param {string} inputId Element ID of the input file picker element.\n",
              " * @param {string} outputId Element ID of the output display.\n",
              " * @return {!Iterable<!Object>} Iterable of next steps.\n",
              " */\n",
              "function* uploadFilesStep(inputId, outputId) {\n",
              "  const inputElement = document.getElementById(inputId);\n",
              "  inputElement.disabled = false;\n",
              "\n",
              "  const outputElement = document.getElementById(outputId);\n",
              "  outputElement.innerHTML = '';\n",
              "\n",
              "  const pickedPromise = new Promise((resolve) => {\n",
              "    inputElement.addEventListener('change', (e) => {\n",
              "      resolve(e.target.files);\n",
              "    });\n",
              "  });\n",
              "\n",
              "  const cancel = document.createElement('button');\n",
              "  inputElement.parentElement.appendChild(cancel);\n",
              "  cancel.textContent = 'Cancel upload';\n",
              "  const cancelPromise = new Promise((resolve) => {\n",
              "    cancel.onclick = () => {\n",
              "      resolve(null);\n",
              "    };\n",
              "  });\n",
              "\n",
              "  // Wait for the user to pick the files.\n",
              "  const files = yield {\n",
              "    promise: Promise.race([pickedPromise, cancelPromise]),\n",
              "    response: {\n",
              "      action: 'starting',\n",
              "    }\n",
              "  };\n",
              "\n",
              "  cancel.remove();\n",
              "\n",
              "  // Disable the input element since further picks are not allowed.\n",
              "  inputElement.disabled = true;\n",
              "\n",
              "  if (!files) {\n",
              "    return {\n",
              "      response: {\n",
              "        action: 'complete',\n",
              "      }\n",
              "    };\n",
              "  }\n",
              "\n",
              "  for (const file of files) {\n",
              "    const li = document.createElement('li');\n",
              "    li.append(span(file.name, {fontWeight: 'bold'}));\n",
              "    li.append(span(\n",
              "        `(${file.type || 'n/a'}) - ${file.size} bytes, ` +\n",
              "        `last modified: ${\n",
              "            file.lastModifiedDate ? file.lastModifiedDate.toLocaleDateString() :\n",
              "                                    'n/a'} - `));\n",
              "    const percent = span('0% done');\n",
              "    li.appendChild(percent);\n",
              "\n",
              "    outputElement.appendChild(li);\n",
              "\n",
              "    const fileDataPromise = new Promise((resolve) => {\n",
              "      const reader = new FileReader();\n",
              "      reader.onload = (e) => {\n",
              "        resolve(e.target.result);\n",
              "      };\n",
              "      reader.readAsArrayBuffer(file);\n",
              "    });\n",
              "    // Wait for the data to be ready.\n",
              "    let fileData = yield {\n",
              "      promise: fileDataPromise,\n",
              "      response: {\n",
              "        action: 'continue',\n",
              "      }\n",
              "    };\n",
              "\n",
              "    // Use a chunked sending to avoid message size limits. See b/62115660.\n",
              "    let position = 0;\n",
              "    do {\n",
              "      const length = Math.min(fileData.byteLength - position, MAX_PAYLOAD_SIZE);\n",
              "      const chunk = new Uint8Array(fileData, position, length);\n",
              "      position += length;\n",
              "\n",
              "      const base64 = btoa(String.fromCharCode.apply(null, chunk));\n",
              "      yield {\n",
              "        response: {\n",
              "          action: 'append',\n",
              "          file: file.name,\n",
              "          data: base64,\n",
              "        },\n",
              "      };\n",
              "\n",
              "      let percentDone = fileData.byteLength === 0 ?\n",
              "          100 :\n",
              "          Math.round((position / fileData.byteLength) * 100);\n",
              "      percent.textContent = `${percentDone}% done`;\n",
              "\n",
              "    } while (position < fileData.byteLength);\n",
              "  }\n",
              "\n",
              "  // All done.\n",
              "  yield {\n",
              "    response: {\n",
              "      action: 'complete',\n",
              "    }\n",
              "  };\n",
              "}\n",
              "\n",
              "scope.google = scope.google || {};\n",
              "scope.google.colab = scope.google.colab || {};\n",
              "scope.google.colab._files = {\n",
              "  _uploadFiles,\n",
              "  _uploadFilesContinue,\n",
              "};\n",
              "})(self);\n",
              "</script> "
            ]
          },
          "metadata": {}
        },
        {
          "output_type": "stream",
          "name": "stdout",
          "text": [
            "Saving archive.zip to archive (1).zip\n"
          ]
        }
      ]
    },
    {
      "cell_type": "code",
      "source": [
        "!unzip archive.zip -d mnist_data"
      ],
      "metadata": {
        "colab": {
          "base_uri": "https://localhost:8080/"
        },
        "id": "lnuKq2YH9jlS",
        "outputId": "8896f5f1-5340-4572-de13-b27ba0b97188"
      },
      "execution_count": null,
      "outputs": [
        {
          "output_type": "stream",
          "name": "stdout",
          "text": [
            "Archive:  archive.zip\n",
            "  inflating: mnist_data/t10k-images-idx3-ubyte/t10k-images-idx3-ubyte  \n",
            "  inflating: mnist_data/t10k-images.idx3-ubyte  \n",
            "  inflating: mnist_data/t10k-labels-idx1-ubyte/t10k-labels-idx1-ubyte  \n",
            "  inflating: mnist_data/t10k-labels.idx1-ubyte  \n",
            "  inflating: mnist_data/train-images-idx3-ubyte/train-images-idx3-ubyte  \n",
            "  inflating: mnist_data/train-images.idx3-ubyte  \n",
            "  inflating: mnist_data/train-labels-idx1-ubyte/train-labels-idx1-ubyte  \n",
            "  inflating: mnist_data/train-labels.idx1-ubyte  \n"
          ]
        }
      ]
    },
    {
      "cell_type": "code",
      "source": [
        "!ls mnist_data"
      ],
      "metadata": {
        "colab": {
          "base_uri": "https://localhost:8080/"
        },
        "id": "Pz2jqupU9jZC",
        "outputId": "bd95289d-918f-449e-e313-813896a0aa68"
      },
      "execution_count": null,
      "outputs": [
        {
          "output_type": "stream",
          "name": "stdout",
          "text": [
            "t10k-images-idx3-ubyte\tt10k-labels-idx1-ubyte\ttrain-images-idx3-ubyte  train-labels-idx1-ubyte\n",
            "t10k-images.idx3-ubyte\tt10k-labels.idx1-ubyte\ttrain-images.idx3-ubyte  train-labels.idx1-ubyte\n"
          ]
        }
      ]
    },
    {
      "cell_type": "code",
      "source": [
        "import numpy as np\n",
        "import matplotlib.pyplot as plt\n",
        "\n",
        "def load_mnist_images(file_path):\n",
        "    \"\"\"Load MNIST image file in ubyte format.\"\"\"\n",
        "    with open(file_path, 'rb') as f:\n",
        "        magic_number = int.from_bytes(f.read(4), 'big')\n",
        "        if magic_number != 2051:\n",
        "            raise ValueError(f\"Invalid magic number {magic_number}, expected 2051\")\n",
        "        num_images = int.from_bytes(f.read(4), 'big')\n",
        "        num_rows = int.from_bytes(f.read(4), 'big')\n",
        "        num_cols = int.from_bytes(f.read(4), 'big')\n",
        "        images = np.frombuffer(f.read(), dtype=np.uint8).reshape(num_images, num_rows * num_cols)\n",
        "    return images / 255.0  # Normalize to [0, 1]\n",
        "\n",
        "def load_mnist_labels(file_path):\n",
        "    \"\"\"Load MNIST label file in ubyte format.\"\"\"\n",
        "    with open(file_path, 'rb') as f:\n",
        "        magic_number = int.from_bytes(f.read(4), 'big')\n",
        "        if magic_number != 2049:\n",
        "            raise ValueError(f\"Invalid magic number {magic_number}, expected 2049\")\n",
        "        num_labels = int.from_bytes(f.read(4), 'big')\n",
        "        labels = np.frombuffer(f.read(), dtype=np.uint8)\n",
        "    return labels\n",
        "\n",
        "# File paths\n",
        "train_images_path = \"/content/mnist_data/train-images-idx3-ubyte/train-images-idx3-ubyte\"\n",
        "train_labels_path = \"/content/mnist_data/train-labels-idx1-ubyte/train-labels-idx1-ubyte\"\n",
        "test_images_path = \"/content/mnist_data/t10k-images-idx3-ubyte/t10k-images-idx3-ubyte\"\n",
        "test_labels_path = \"/content/mnist_data/t10k-labels-idx1-ubyte/t10k-labels-idx1-ubyte\"\n",
        "\n",
        "# Load the dataset\n",
        "x_train = load_mnist_images(train_images_path)\n",
        "y_train = load_mnist_labels(train_labels_path)\n",
        "x_test = load_mnist_images(test_images_path)\n",
        "y_test = load_mnist_labels(test_labels_path)\n",
        "\n",
        "\n",
        "# visulaizing the data set\n",
        "# img = x_train[0].reshape(28,28)\n",
        "# plt.imshow(img, cmap='gray')\n",
        "# plt.title(f\"label: {y_train[0]}\")\n",
        "# plt.show()\n",
        "\n",
        "fig, axes = plt.subplots(4, 4, figsize=(10, 10))\n",
        "\n",
        "for i, ax in enumerate(axes.flat):\n",
        "    img=x_train[i].reshape(28,28)\n",
        "    ax.imshow(img, cmap='gray')\n",
        "    ax.set_title(f\"Label: {y_train[i]}\")\n",
        "    ax.axis('off')  # Turn off axis\n",
        "\n",
        "# plt.tight_layout()\n",
        "# plt.show()\n",
        "\n",
        "\n",
        "\n",
        "\n",
        "\n",
        "\n"
      ],
      "metadata": {
        "id": "A94aVrBr_DKY"
      },
      "execution_count": null,
      "outputs": []
    },
    {
      "cell_type": "code",
      "source": [
        "import numpy as np\n"
      ],
      "metadata": {
        "id": "MCI_wHnyAqVo"
      },
      "execution_count": null,
      "outputs": []
    },
    {
      "cell_type": "code",
      "source": [
        "def initialize_parameters(input_size, hidden_size, output_size):\n",
        "    np.random.seed(0)  # For reproducibility\n",
        "    W1 = np.random.randn(input_size, hidden_size) * 0.01  # Weights for input to hidden layer\n",
        "    b1 = np.zeros((1, hidden_size))  # Bias for hidden layer\n",
        "    W2 = np.random.randn(hidden_size, output_size) * 0.01  # Weights for hidden to output layer\n",
        "    b2 = np.zeros((1, output_size))  # Bias for output layer\n",
        "    return W1, b1, W2, b2\n",
        "\n",
        "  #he initialisation\n",
        "  #zero initialisation\n",
        "  #pre trained weight initialisation\n"
      ],
      "metadata": {
        "id": "arTolvMXAsRO"
      },
      "execution_count": null,
      "outputs": []
    },
    {
      "cell_type": "code",
      "source": [
        "def relu(x):\n",
        "    return np.maximum(0, x)\n",
        "\n",
        "def softmax(x):\n",
        "    exps = np.exp(x - np.max(x, axis=1, keepdims=True))\n",
        "    return exps / np.sum(exps, axis=1, keepdims=True)\n"
      ],
      "metadata": {
        "id": "9zoxj-ooAsPU"
      },
      "execution_count": null,
      "outputs": []
    },
    {
      "cell_type": "code",
      "source": [
        "def relu(x):\n",
        "    return np.maximum(0, x)\n",
        "\n",
        "def softmax(x):\n",
        "    exps = np.exp(x - np.max(x, axis=1, keepdims=True))\n",
        "    return exps / np.sum(exps, axis=1, keepdims=True)\n"
      ],
      "metadata": {
        "id": "VO01JZxyAsMj"
      },
      "execution_count": null,
      "outputs": []
    },
    {
      "cell_type": "code",
      "source": [
        "def forward_propagation(x, W1, b1, W2, b2):\n",
        "    z1 = np.dot(x, W1) + b1\n",
        "    a1 = relu(z1)\n",
        "    z2 = np.dot(a1, W2) + b2\n",
        "    a2 = softmax(z2)\n",
        "    return z1, a1, z2, a2\n"
      ],
      "metadata": {
        "id": "rD9BNbiLAsKE"
      },
      "execution_count": null,
      "outputs": []
    },
    {
      "cell_type": "code",
      "source": [
        "def backward_propagation(x, y, z1, a1, z2, a2, W2):\n",
        "    m = x.shape[0]\n",
        "    dz2 = a2 - y\n",
        "    dW2 = np.dot(a1.T, dz2) / m\n",
        "    db2 = np.sum(dz2, axis=0, keepdims=True) / m\n",
        "\n",
        "    da1 = np.dot(dz2, W2.T)\n",
        "    dz1 = da1 * (z1 > 0)  # Derivative of ReLU\n",
        "    dW1 = np.dot(x.T, dz1) / m\n",
        "    db1 = np.sum(dz1, axis=0, keepdims=True) / m\n",
        "\n",
        "    return dW1, db1, dW2, db2\n"
      ],
      "metadata": {
        "id": "3sRs0aVpAsHv"
      },
      "execution_count": null,
      "outputs": []
    },
    {
      "cell_type": "code",
      "source": [
        "def update_parameters(W1, b1, W2, b2, dW1, db1, dW2, db2, learning_rate):\n",
        "    W1 -= learning_rate * dW1\n",
        "    b1 -= learning_rate * db1\n",
        "    W2 -= learning_rate * dW2\n",
        "    b2 -= learning_rate * db2\n",
        "    return W1, b1, W2, b2\n"
      ],
      "metadata": {
        "id": "yISXJX-TAsEj"
      },
      "execution_count": null,
      "outputs": []
    },
    {
      "cell_type": "code",
      "source": [
        "def one_hot_encode(labels, num_classes=10):\n",
        "    return np.eye(num_classes)[labels]\n"
      ],
      "metadata": {
        "id": "95m7IYslAsAJ"
      },
      "execution_count": null,
      "outputs": []
    },
    {
      "cell_type": "code",
      "source": [
        "def one_hot_encode(labels, num_classes=10):\n",
        "    return np.eye(num_classes)[labels]\n"
      ],
      "metadata": {
        "id": "d3JvxXkcBIe-"
      },
      "execution_count": null,
      "outputs": []
    },
    {
      "cell_type": "code",
      "source": [
        "def train(x_train, y_train, input_size, hidden_size, output_size, learning_rate, epochs, batch_size, training_loss):\n",
        "    # Initialize parameters\n",
        "    W1, b1, W2, b2 = initialize_parameters(input_size, hidden_size, output_size)\n",
        "\n",
        "    # Convert labels to one-hot encoding\n",
        "    y_train_one_hot = one_hot_encode(y_train)\n",
        "\n",
        "    for epoch in range(epochs):\n",
        "        # Shuffle the data\n",
        "        indices = np.random.permutation(x_train.shape[0])\n",
        "        x_train = x_train[indices]\n",
        "        y_train_one_hot = y_train_one_hot[indices]\n",
        "\n",
        "        for i in range(0, x_train.shape[0], batch_size):\n",
        "            x_batch = x_train[i:i + batch_size]\n",
        "            y_batch = y_train_one_hot[i:i + batch_size]\n",
        "\n",
        "            # Forward propagation\n",
        "            z1, a1, z2, a2 = forward_propagation(x_batch, W1, b1, W2, b2)\n",
        "\n",
        "            # Backward propagation\n",
        "            dW1, db1, dW2, db2 = backward_propagation(x_batch, y_batch, z1, a1, z2, a2, W2)\n",
        "\n",
        "            # Update parameters\n",
        "            W1, b1, W2, b2 = update_parameters(W1, b1, W2, b2, dW1, db1, dW2, db2, learning_rate)\n",
        "\n",
        "        # Calculate loss\n",
        "        _, _, _, a2_full = forward_propagation(x_train, W1, b1, W2, b2)\n",
        "        loss = -np.mean(np.sum(y_train_one_hot * np.log(a2_full + 1e-8), axis=1))\n",
        "\n",
        "        training_loss.append(loss)\n",
        "\n",
        "\n",
        "        print(f\"Epoch {epoch + 1}/{epochs}, Loss: {loss:.4f}\")\n",
        "\n",
        "    return W1, b1, W2, b2, training_loss\n"
      ],
      "metadata": {
        "id": "FLoDQTtnBIbs"
      },
      "execution_count": null,
      "outputs": []
    },
    {
      "cell_type": "code",
      "source": [
        "def test(x_test, y_test, W1, b1, W2, b2):\n",
        "    _, _, _, a2 = forward_propagation(x_test, W1, b1, W2, b2)\n",
        "    predictions = np.argmax(a2, axis=1)\n",
        "    accuracy = np.mean(predictions == y_test)\n",
        "    print(f\"Test Accuracy: {accuracy:.4f}\")\n"
      ],
      "metadata": {
        "id": "dvkrJSPTBIY0"
      },
      "execution_count": null,
      "outputs": []
    },
    {
      "cell_type": "code",
      "source": [
        "# Define parameters\n",
        "input_size = 784  # 28x28 images\n",
        "hidden_size = 128\n",
        "output_size = 10  # 10 classes\n",
        "learning_rate = 0.1\n",
        "epochs = 10\n",
        "batch_size = 128\n",
        "training_loss= []\n",
        "\n",
        "# Train the model\n",
        "W1, b1, W2, b2, training_loss = train(x_train, y_train, input_size, hidden_size, output_size, learning_rate, epochs, batch_size, training_loss)\n",
        "\n",
        "# Test the model\n",
        "test(x_test, y_test, W1, b1, W2, b2)\n",
        "\n",
        "plt.plot(training_loss)\n",
        "plt.title('Training_loss')\n",
        "plt.xlabel('Epochs')\n",
        "plt.ylabel('Loss')\n",
        "plt.show()\n",
        "\n",
        "\n"
      ],
      "metadata": {
        "colab": {
          "base_uri": "https://localhost:8080/",
          "height": 663
        },
        "id": "jmFQvvgjBIWA",
        "outputId": "57d90828-b352-4b17-b7a6-91658050fd8a"
      },
      "execution_count": null,
      "outputs": [
        {
          "output_type": "stream",
          "name": "stdout",
          "text": [
            "Epoch 1/10, Loss: 0.3509\n",
            "Epoch 2/10, Loss: 0.2798\n",
            "Epoch 3/10, Loss: 0.2457\n",
            "Epoch 4/10, Loss: 0.1997\n",
            "Epoch 5/10, Loss: 0.1806\n",
            "Epoch 6/10, Loss: 0.1571\n",
            "Epoch 7/10, Loss: 0.1397\n",
            "Epoch 8/10, Loss: 0.1233\n",
            "Epoch 9/10, Loss: 0.1120\n",
            "Epoch 10/10, Loss: 0.1056\n",
            "Test Accuracy: 0.9664\n"
          ]
        },
        {
          "output_type": "display_data",
          "data": {
            "text/plain": [
              "<Figure size 640x480 with 1 Axes>"
            ],
            "image/png": "[encoded data removed]"
          },
          "metadata": {}
        }
      ]
    },
    {
      "cell_type": "code",
      "source": [
        "import  numpy as np\n"
      ],
      "metadata": {
        "id": "2PaHP2q8Fp31"
      },
      "execution_count": null,
      "outputs": []
    },
    {
      "cell_type": "code",
      "source": [
        "np.random.seed(88)  # For reproducibility\n",
        "#seed will generate numbers according to the number input will scale the normal distribution to that scale\n",
        "W1 = np.random.randn(1, 2) * 0.01\n",
        "print(W1)"
      ],
      "metadata": {
        "colab": {
          "base_uri": "https://localhost:8080/"
        },
        "id": "KVGaBvO_F60l",
        "outputId": "10f2fabc-8fdf-43f4-9a71-7479891b4ca8"
      },
      "execution_count": null,
      "outputs": [
        {
          "output_type": "stream",
          "name": "stdout",
          "text": [
            "[[0.01068514 0.00997183]]\n"
          ]
        }
      ]
    }
  ]
}